{
 "cells": [
  {
   "cell_type": "code",
   "execution_count": 1,
   "id": "7c1a81e2-c58a-43e6-b1ca-7223ccafaf16",
   "metadata": {},
   "outputs": [
    {
     "data": {
      "text/html": [
       "<div>\n",
       "<style scoped>\n",
       "    .dataframe tbody tr th:only-of-type {\n",
       "        vertical-align: middle;\n",
       "    }\n",
       "\n",
       "    .dataframe tbody tr th {\n",
       "        vertical-align: top;\n",
       "    }\n",
       "\n",
       "    .dataframe thead th {\n",
       "        text-align: right;\n",
       "    }\n",
       "</style>\n",
       "<table border=\"1\" class=\"dataframe\">\n",
       "  <thead>\n",
       "    <tr style=\"text-align: right;\">\n",
       "      <th></th>\n",
       "      <th>Age</th>\n",
       "      <th>Gender</th>\n",
       "      <th>Education Level</th>\n",
       "      <th>Job Title</th>\n",
       "      <th>Years of Experience</th>\n",
       "      <th>Salary</th>\n",
       "    </tr>\n",
       "  </thead>\n",
       "  <tbody>\n",
       "    <tr>\n",
       "      <th>0</th>\n",
       "      <td>32.0</td>\n",
       "      <td>Male</td>\n",
       "      <td>Bachelor's</td>\n",
       "      <td>Software Engineer</td>\n",
       "      <td>5.0</td>\n",
       "      <td>90000.0</td>\n",
       "    </tr>\n",
       "    <tr>\n",
       "      <th>1</th>\n",
       "      <td>28.0</td>\n",
       "      <td>Female</td>\n",
       "      <td>Master's</td>\n",
       "      <td>Data Analyst</td>\n",
       "      <td>3.0</td>\n",
       "      <td>65000.0</td>\n",
       "    </tr>\n",
       "    <tr>\n",
       "      <th>2</th>\n",
       "      <td>45.0</td>\n",
       "      <td>Male</td>\n",
       "      <td>PhD</td>\n",
       "      <td>Senior Manager</td>\n",
       "      <td>15.0</td>\n",
       "      <td>150000.0</td>\n",
       "    </tr>\n",
       "    <tr>\n",
       "      <th>3</th>\n",
       "      <td>36.0</td>\n",
       "      <td>Female</td>\n",
       "      <td>Bachelor's</td>\n",
       "      <td>Sales Associate</td>\n",
       "      <td>7.0</td>\n",
       "      <td>60000.0</td>\n",
       "    </tr>\n",
       "    <tr>\n",
       "      <th>4</th>\n",
       "      <td>52.0</td>\n",
       "      <td>Male</td>\n",
       "      <td>Master's</td>\n",
       "      <td>Director</td>\n",
       "      <td>20.0</td>\n",
       "      <td>200000.0</td>\n",
       "    </tr>\n",
       "  </tbody>\n",
       "</table>\n",
       "</div>"
      ],
      "text/plain": [
       "    Age  Gender Education Level          Job Title  Years of Experience  \\\n",
       "0  32.0    Male      Bachelor's  Software Engineer                  5.0   \n",
       "1  28.0  Female        Master's       Data Analyst                  3.0   \n",
       "2  45.0    Male             PhD     Senior Manager                 15.0   \n",
       "3  36.0  Female      Bachelor's    Sales Associate                  7.0   \n",
       "4  52.0    Male        Master's           Director                 20.0   \n",
       "\n",
       "     Salary  \n",
       "0   90000.0  \n",
       "1   65000.0  \n",
       "2  150000.0  \n",
       "3   60000.0  \n",
       "4  200000.0  "
      ]
     },
     "execution_count": 1,
     "metadata": {},
     "output_type": "execute_result"
    }
   ],
   "source": [
    "import pandas as pd\n",
    "import numpy as np\n",
    "import matplotlib.pyplot as plt\n",
    "\n",
    "df = pd.read_csv(\"Salary_Data.csv\")\n",
    "df.head()"
   ]
  },
  {
   "cell_type": "code",
   "execution_count": 2,
   "id": "7e07f1f6-84b2-4b0a-92f8-a6ee021292d7",
   "metadata": {},
   "outputs": [
    {
     "data": {
      "text/plain": [
       "Age                    2\n",
       "Gender                 2\n",
       "Education Level        3\n",
       "Job Title              2\n",
       "Years of Experience    3\n",
       "Salary                 5\n",
       "dtype: int64"
      ]
     },
     "execution_count": 2,
     "metadata": {},
     "output_type": "execute_result"
    }
   ],
   "source": [
    "df.isnull().sum()"
   ]
  },
  {
   "cell_type": "code",
   "execution_count": 3,
   "id": "33401dc5-90eb-4f4b-81dc-682497789100",
   "metadata": {},
   "outputs": [],
   "source": [
    "df['Age'].fillna(df['Age'].mode()[0], inplace=True)"
   ]
  },
  {
   "cell_type": "code",
   "execution_count": 4,
   "id": "1076ce36-af3d-4bbb-a227-a608608b8a3c",
   "metadata": {},
   "outputs": [],
   "source": [
    "df['Gender'].fillna(df['Gender'].mode()[0], inplace=True)"
   ]
  },
  {
   "cell_type": "code",
   "execution_count": 5,
   "id": "ad75e319-7b8f-4a3a-be38-6936450ccf9e",
   "metadata": {},
   "outputs": [
    {
     "data": {
      "text/plain": [
       "Age                    0\n",
       "Gender                 0\n",
       "Education Level        3\n",
       "Job Title              2\n",
       "Years of Experience    3\n",
       "Salary                 5\n",
       "dtype: int64"
      ]
     },
     "execution_count": 5,
     "metadata": {},
     "output_type": "execute_result"
    }
   ],
   "source": [
    "df.isnull().sum()\n"
   ]
  },
  {
   "cell_type": "code",
   "execution_count": 6,
   "id": "ecf01dc3-be62-45de-8092-6e63b5e28cb5",
   "metadata": {},
   "outputs": [],
   "source": [
    "df['Education Level'].fillna(df['Education Level'].mode()[0], inplace=True)"
   ]
  },
  {
   "cell_type": "code",
   "execution_count": 7,
   "id": "ac2ac07a-42a2-46cc-b745-6af9e9f96023",
   "metadata": {},
   "outputs": [],
   "source": [
    "df['Job Title'].fillna(df['Job Title'].mode()[0], inplace=True)"
   ]
  },
  {
   "cell_type": "code",
   "execution_count": 8,
   "id": "3a98ed14-98bd-4a9f-bb57-4d1e33c1174a",
   "metadata": {},
   "outputs": [],
   "source": [
    "df['Years of Experience'].fillna(df['Years of Experience'].mode()[0], inplace=True)"
   ]
  },
  {
   "cell_type": "code",
   "execution_count": 9,
   "id": "e5c42d55-e429-4752-b8fe-68d823b1e15e",
   "metadata": {},
   "outputs": [],
   "source": [
    "df['Salary'].fillna(df['Salary'].mode()[0], inplace=True)"
   ]
  },
  {
   "cell_type": "code",
   "execution_count": 10,
   "id": "f50cf1ea-ff7e-48fb-8c59-b653cc62c057",
   "metadata": {},
   "outputs": [
    {
     "data": {
      "text/plain": [
       "Age                    0\n",
       "Gender                 0\n",
       "Education Level        0\n",
       "Job Title              0\n",
       "Years of Experience    0\n",
       "Salary                 0\n",
       "dtype: int64"
      ]
     },
     "execution_count": 10,
     "metadata": {},
     "output_type": "execute_result"
    }
   ],
   "source": [
    "df.isnull().sum()"
   ]
  },
  {
   "cell_type": "code",
   "execution_count": 11,
   "id": "f61f106d-6445-478e-bcb5-2914609875a3",
   "metadata": {},
   "outputs": [],
   "source": [
    "df['Gender'].replace({'Male':1 , 'Female':2}, inplace=True)"
   ]
  },
  {
   "cell_type": "code",
   "execution_count": 12,
   "id": "523e3a6b-a8fb-4cb1-91d0-03c55d03ba49",
   "metadata": {},
   "outputs": [
    {
     "data": {
      "text/html": [
       "<div>\n",
       "<style scoped>\n",
       "    .dataframe tbody tr th:only-of-type {\n",
       "        vertical-align: middle;\n",
       "    }\n",
       "\n",
       "    .dataframe tbody tr th {\n",
       "        vertical-align: top;\n",
       "    }\n",
       "\n",
       "    .dataframe thead th {\n",
       "        text-align: right;\n",
       "    }\n",
       "</style>\n",
       "<table border=\"1\" class=\"dataframe\">\n",
       "  <thead>\n",
       "    <tr style=\"text-align: right;\">\n",
       "      <th></th>\n",
       "      <th>Age</th>\n",
       "      <th>Gender</th>\n",
       "      <th>Education Level</th>\n",
       "      <th>Job Title</th>\n",
       "      <th>Years of Experience</th>\n",
       "      <th>Salary</th>\n",
       "    </tr>\n",
       "  </thead>\n",
       "  <tbody>\n",
       "    <tr>\n",
       "      <th>0</th>\n",
       "      <td>32.0</td>\n",
       "      <td>1</td>\n",
       "      <td>Bachelor's</td>\n",
       "      <td>Software Engineer</td>\n",
       "      <td>5.0</td>\n",
       "      <td>90000.0</td>\n",
       "    </tr>\n",
       "    <tr>\n",
       "      <th>1</th>\n",
       "      <td>28.0</td>\n",
       "      <td>2</td>\n",
       "      <td>Master's</td>\n",
       "      <td>Data Analyst</td>\n",
       "      <td>3.0</td>\n",
       "      <td>65000.0</td>\n",
       "    </tr>\n",
       "    <tr>\n",
       "      <th>2</th>\n",
       "      <td>45.0</td>\n",
       "      <td>1</td>\n",
       "      <td>PhD</td>\n",
       "      <td>Senior Manager</td>\n",
       "      <td>15.0</td>\n",
       "      <td>150000.0</td>\n",
       "    </tr>\n",
       "    <tr>\n",
       "      <th>3</th>\n",
       "      <td>36.0</td>\n",
       "      <td>2</td>\n",
       "      <td>Bachelor's</td>\n",
       "      <td>Sales Associate</td>\n",
       "      <td>7.0</td>\n",
       "      <td>60000.0</td>\n",
       "    </tr>\n",
       "    <tr>\n",
       "      <th>4</th>\n",
       "      <td>52.0</td>\n",
       "      <td>1</td>\n",
       "      <td>Master's</td>\n",
       "      <td>Director</td>\n",
       "      <td>20.0</td>\n",
       "      <td>200000.0</td>\n",
       "    </tr>\n",
       "  </tbody>\n",
       "</table>\n",
       "</div>"
      ],
      "text/plain": [
       "    Age Gender Education Level          Job Title  Years of Experience  \\\n",
       "0  32.0      1      Bachelor's  Software Engineer                  5.0   \n",
       "1  28.0      2        Master's       Data Analyst                  3.0   \n",
       "2  45.0      1             PhD     Senior Manager                 15.0   \n",
       "3  36.0      2      Bachelor's    Sales Associate                  7.0   \n",
       "4  52.0      1        Master's           Director                 20.0   \n",
       "\n",
       "     Salary  \n",
       "0   90000.0  \n",
       "1   65000.0  \n",
       "2  150000.0  \n",
       "3   60000.0  \n",
       "4  200000.0  "
      ]
     },
     "execution_count": 12,
     "metadata": {},
     "output_type": "execute_result"
    }
   ],
   "source": [
    "df.head()"
   ]
  },
  {
   "cell_type": "code",
   "execution_count": 13,
   "id": "88e60d0c-c36a-43c9-aa29-a08d5a7e58b9",
   "metadata": {},
   "outputs": [
    {
     "data": {
      "text/plain": [
       "Gender\n",
       "1        3676\n",
       "2        3014\n",
       "Other      14\n",
       "Name: count, dtype: int64"
      ]
     },
     "execution_count": 13,
     "metadata": {},
     "output_type": "execute_result"
    }
   ],
   "source": [
    "df['Gender'].value_counts()"
   ]
  },
  {
   "cell_type": "code",
   "execution_count": 14,
   "id": "f4b51ca4-25b8-4052-b1f1-d3d83247466d",
   "metadata": {},
   "outputs": [],
   "source": [
    "df['Gender'].replace({'Other':3}, inplace=True)"
   ]
  },
  {
   "cell_type": "code",
   "execution_count": 15,
   "id": "9e9b263a-a619-456d-86be-91bb54fe4a4a",
   "metadata": {},
   "outputs": [
    {
     "data": {
      "text/plain": [
       "Gender\n",
       "1    3676\n",
       "2    3014\n",
       "3      14\n",
       "Name: count, dtype: int64"
      ]
     },
     "execution_count": 15,
     "metadata": {},
     "output_type": "execute_result"
    }
   ],
   "source": [
    "df['Gender'].value_counts()"
   ]
  },
  {
   "cell_type": "code",
   "execution_count": 16,
   "id": "5862d58b-0ee9-4b90-a969-90b18c77d5ad",
   "metadata": {},
   "outputs": [
    {
     "data": {
      "text/plain": [
       "33.61888424821002"
      ]
     },
     "execution_count": 16,
     "metadata": {},
     "output_type": "execute_result"
    }
   ],
   "source": [
    "df['Age'].mean()"
   ]
  },
  {
   "cell_type": "code",
   "execution_count": 21,
   "id": "6aec2a78-e37d-4017-8d29-45c481cceb02",
   "metadata": {},
   "outputs": [
    {
     "data": {
      "text/plain": [
       "Age\n",
       "21.0        0.000000\n",
       "22.0    11880.865333\n",
       "23.0    18035.442395\n",
       "24.0    26124.985328\n",
       "25.0    28777.491135\n",
       "26.0    31350.288104\n",
       "27.0    33176.810762\n",
       "28.0    40685.862170\n",
       "29.0    40882.104745\n",
       "30.0    44141.603325\n",
       "31.0    49170.282924\n",
       "32.0    40343.238208\n",
       "33.0    41148.195089\n",
       "34.0    38029.021237\n",
       "35.0    28282.573449\n",
       "36.0    35135.187603\n",
       "37.0    32923.368331\n",
       "38.0    30591.206601\n",
       "39.0    37107.978657\n",
       "40.0    38457.087535\n",
       "41.0    32816.117854\n",
       "42.0    23802.443693\n",
       "43.0    19730.539525\n",
       "44.0    18377.397914\n",
       "45.0    26086.731136\n",
       "46.0    16885.301897\n",
       "47.0    11582.239177\n",
       "48.0    16884.955629\n",
       "49.0    18146.688329\n",
       "50.0    18832.132979\n",
       "51.0    27080.013909\n",
       "52.0    15720.313915\n",
       "53.0    11812.715266\n",
       "54.0     8875.741981\n",
       "55.0    10884.112294\n",
       "56.0     4507.360808\n",
       "57.0    31698.597168\n",
       "58.0     4496.983539\n",
       "60.0     6855.522467\n",
       "61.0        0.000000\n",
       "62.0        0.000000\n",
       "Name: Salary, dtype: float64"
      ]
     },
     "execution_count": 21,
     "metadata": {},
     "output_type": "execute_result"
    }
   ],
   "source": [
    "df.groupby('Age')['Salary'].std()"
   ]
  },
  {
   "cell_type": "code",
   "execution_count": 22,
   "id": "cfcd2ab6-39b6-4a32-9d4e-de53a07fbc28",
   "metadata": {},
   "outputs": [
    {
     "data": {
      "text/plain": [
       "Age\n",
       "21.0     25000.000000\n",
       "22.0     32910.933333\n",
       "23.0     47192.009615\n",
       "24.0     51052.250000\n",
       "25.0     63730.387324\n",
       "26.0     66137.053299\n",
       "27.0     77673.836224\n",
       "28.0     84140.368298\n",
       "29.0     85764.750000\n",
       "30.0    100903.955457\n",
       "31.0    114451.649315\n",
       "32.0    120500.179487\n",
       "33.0    127425.266332\n",
       "34.0    132065.291262\n",
       "35.0    119365.835000\n",
       "36.0    134092.748227\n",
       "37.0    146939.461538\n",
       "38.0    138185.570470\n",
       "39.0    147282.715190\n",
       "40.0    149862.989130\n",
       "41.0    155235.565891\n",
       "42.0    155952.477273\n",
       "43.0    165409.398734\n",
       "44.0    160518.873016\n",
       "45.0    170334.291667\n",
       "46.0    171242.362745\n",
       "47.0    178750.106383\n",
       "48.0    192723.846939\n",
       "49.0    189013.582418\n",
       "50.0    190849.897727\n",
       "51.0    200356.066667\n",
       "52.0    187629.379310\n",
       "53.0    180806.571429\n",
       "54.0    189816.250000\n",
       "55.0    198482.187500\n",
       "56.0    196577.636364\n",
       "57.0    176993.777778\n",
       "58.0    195715.428571\n",
       "60.0    186132.400000\n",
       "61.0    200000.000000\n",
       "62.0    200000.000000\n",
       "Name: Salary, dtype: float64"
      ]
     },
     "execution_count": 22,
     "metadata": {},
     "output_type": "execute_result"
    }
   ],
   "source": [
    "df.groupby('Age')['Salary'].mean()"
   ]
  },
  {
   "cell_type": "code",
   "execution_count": null,
   "id": "51535ba5-957e-4a46-b6d8-863ddde3e8f9",
   "metadata": {},
   "outputs": [],
   "source": []
  },
  {
   "cell_type": "code",
   "execution_count": null,
   "id": "bfe24ee3-3247-4c97-962a-fb46e7ff6b08",
   "metadata": {},
   "outputs": [],
   "source": []
  }
 ],
 "metadata": {
  "kernelspec": {
   "display_name": "Python 3 (ipykernel)",
   "language": "python",
   "name": "python3"
  },
  "language_info": {
   "codemirror_mode": {
    "name": "ipython",
    "version": 3
   },
   "file_extension": ".py",
   "mimetype": "text/x-python",
   "name": "python",
   "nbconvert_exporter": "python",
   "pygments_lexer": "ipython3",
   "version": "3.11.7"
  }
 },
 "nbformat": 4,
 "nbformat_minor": 5
}
